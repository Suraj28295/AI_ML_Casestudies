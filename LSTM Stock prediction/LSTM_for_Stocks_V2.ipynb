{
 "cells": [
  {
   "cell_type": "code",
   "execution_count": null,
   "metadata": {
    "id": "ZdEJD2_xhR8S"
   },
   "outputs": [],
   "source": [
    "# !wget http://prdownloads.sourceforge.net/ta-lib/ta-lib-0.4.0-src.tar.gz \n",
    "# !tar xvzf ta-lib-0.4.0-src.tar.gz\n",
    "# import os\n",
    "# os.chdir('ta-lib') # Can't use !cd in co-lab\n",
    "# !./configure --prefix=/usr\n",
    "# !make\n",
    "# !make install\n",
    "# os.chdir('../')\n",
    "# !pip install TA-Lib"
   ]
  },
  {
   "cell_type": "code",
   "execution_count": 3,
   "metadata": {
    "id": "LhSvl1mi4JRQ"
   },
   "outputs": [
    {
     "name": "stdout",
     "output_type": "stream",
     "text": [
      "Collecting ta\n",
      "  Downloading ta-0.8.0.tar.gz (24 kB)\n",
      "Requirement already satisfied: numpy in c:\\users\\shiwa\\miniconda3\\lib\\site-packages (from ta) (1.19.5)\n",
      "Requirement already satisfied: pandas in c:\\users\\shiwa\\miniconda3\\lib\\site-packages (from ta) (1.1.1)\n",
      "Requirement already satisfied: pytz>=2017.2 in c:\\users\\shiwa\\miniconda3\\lib\\site-packages (from pandas->ta) (2020.1)\n",
      "Requirement already satisfied: python-dateutil>=2.7.3 in c:\\users\\shiwa\\miniconda3\\lib\\site-packages (from pandas->ta) (2.8.1)\n",
      "Requirement already satisfied: six>=1.5 in c:\\users\\shiwa\\miniconda3\\lib\\site-packages (from python-dateutil>=2.7.3->pandas->ta) (1.15.0)\n",
      "Building wheels for collected packages: ta\n",
      "  Building wheel for ta (setup.py): started\n",
      "  Building wheel for ta (setup.py): finished with status 'done'\n",
      "  Created wheel for ta: filename=ta-0.8.0-py3-none-any.whl size=28895 sha256=f1598a501af7dfefc6e150edff7af2afead50899138a4a03a8cffe05a83fdd5f\n",
      "  Stored in directory: c:\\users\\shiwa\\appdata\\local\\pip\\cache\\wheels\\a6\\f0\\22\\5b8036f0825e6cab830da478c059b98aa60e44e84faf2099d0\n",
      "Successfully built ta\n",
      "Installing collected packages: ta\n",
      "Successfully installed ta-0.8.0\n"
     ]
    }
   ],
   "source": [
    "# !pip install ta\n",
    "# !pip install pandasgui"
   ]
  },
  {
   "cell_type": "code",
   "execution_count": 1,
   "metadata": {
    "id": "3DrI9Cq6eFuS"
   },
   "outputs": [
    {
     "name": "stderr",
     "output_type": "stream",
     "text": [
      "C:\\Users\\shiwa\\Miniconda3\\lib\\site-packages\\numpy\\_distributor_init.py:30: UserWarning: loaded more than 1 DLL from .libs:\n",
      "C:\\Users\\shiwa\\Miniconda3\\lib\\site-packages\\numpy\\.libs\\libopenblas.NOIJJG62EMASZI6NYURL6JBKM4EVBGM7.gfortran-win_amd64.dll\n",
      "C:\\Users\\shiwa\\Miniconda3\\lib\\site-packages\\numpy\\.libs\\libopenblas.WCDJNK7YVMPZQ2ME2ZZHJJRJ3JIKNDB7.gfortran-win_amd64.dll\n",
      "  warnings.warn(\"loaded more than 1 DLL from .libs:\"\n"
     ]
    }
   ],
   "source": [
    "import numpy as np #The Numpy numerical computing library\n",
    "import pandas as pd #The Pandas data science library\n",
    "import requests #The requests library for HTTP requests in Python\n",
    "from ta.trend import ADXIndicator\n",
    "\n",
    "from sklearn.preprocessing import MinMaxScaler\n",
    "\n",
    "from sklearn.preprocessing import MinMaxScaler\n",
    "from sklearn.preprocessing import LabelEncoder\n",
    "from sklearn.metrics import mean_squared_error\n",
    "from keras.models import Sequential\n",
    "from keras.layers import Dense\n",
    "from keras.layers import LSTM\n",
    "import talib"
   ]
  },
  {
   "cell_type": "code",
   "execution_count": 2,
   "metadata": {
    "id": "ZzPSgwAYCsGb"
   },
   "outputs": [],
   "source": [
    "Max_moving_avg=200\n",
    "past_n_days=50"
   ]
  },
  {
   "cell_type": "code",
   "execution_count": null,
   "metadata": {
    "id": "cP58CDYZfByp"
   },
   "outputs": [],
   "source": [
    "# url = 'https://www.alphavantage.co/query?function=SYMBOL_SEARCH&keywords=reliance&apikey=UU42Y25QXPXJ319N'\n",
    "# r = requests.get(url)\n",
    "# data = r.json()\n",
    "\n",
    "# print(data)"
   ]
  },
  {
   "cell_type": "code",
   "execution_count": 3,
   "metadata": {
    "id": "85VIT49Db8uQ"
   },
   "outputs": [],
   "source": [
    "\n",
    "url = 'https://www.alphavantage.co/query?function=TIME_SERIES_DAILY_ADJUSTED&symbol=RELIANCE.BSE&outputsize=full&apikey=UU42Y25QXPXJ319N'\n",
    "r = requests.get(url)\n",
    "data = r.json()\n"
   ]
  },
  {
   "cell_type": "code",
   "execution_count": 19,
   "metadata": {
    "id": "Vv_jRmGzj0OQ"
   },
   "outputs": [],
   "source": [
    "stock_df=pd.DataFrame(data['Time Series (Daily)']).T.sort_index()"
   ]
  },
  {
   "cell_type": "code",
   "execution_count": 20,
   "metadata": {
    "id": "oOB7_59X4iMZ"
   },
   "outputs": [],
   "source": [
    "cols=['1. open', '2. high', '3. low', '4. close','6. volume', '7. dividend amount', '8. split coefficient']\n",
    "stock_df[cols] = stock_df[cols].apply(pd.to_numeric, errors='coerce')"
   ]
  },
  {
   "cell_type": "code",
   "execution_count": 21,
   "metadata": {
    "id": "Q9L_a-giQaJm"
   },
   "outputs": [],
   "source": [
    "dates=(pd.to_datetime(stock_df.index))\n",
    "stock_df['Is_prev_day_holiday']=[1 if((dates[i]-dates[i-1]).days>1) else 0 for i in range(len(dates)) ]"
   ]
  },
  {
   "cell_type": "code",
   "execution_count": 22,
   "metadata": {
    "id": "reeivHus3r5F"
   },
   "outputs": [
    {
     "name": "stderr",
     "output_type": "stream",
     "text": [
      "C:\\Users\\shiwa\\Miniconda3\\lib\\site-packages\\ta\\trend.py:769: RuntimeWarning:\n",
      "\n",
      "invalid value encountered in double_scalars\n",
      "\n",
      "C:\\Users\\shiwa\\Miniconda3\\lib\\site-packages\\ta\\trend.py:774: RuntimeWarning:\n",
      "\n",
      "invalid value encountered in double_scalars\n",
      "\n"
     ]
    }
   ],
   "source": [
    "adxI = ADXIndicator(stock_df['2. high'],stock_df['3. low'],stock_df['4. close'],14,False)\n",
    "stock_df['pos_directional_indicator'] = adxI.adx_pos()\n",
    "stock_df['neg_directional_indicator'] = adxI.adx_neg()\n",
    "stock_df['adx'] = adxI.adx()"
   ]
  },
  {
   "cell_type": "code",
   "execution_count": 23,
   "metadata": {
    "id": "t3nnvzJH9YL6"
   },
   "outputs": [],
   "source": [
    "stock_df['ADX_pos_neg_diff']=stock_df['pos_directional_indicator']-stock_df['neg_directional_indicator']\n",
    "stock_df['ADX_pos_adx_diff']=stock_df['pos_directional_indicator']-stock_df['adx']\n",
    "stock_df['ADX_neg_adx_diff']=stock_df['neg_directional_indicator']-stock_df['adx']\n",
    "stock_df['ADX_pos_neg_diff']=(stock_df['ADX_pos_neg_diff'] - stock_df['ADX_pos_neg_diff'].mean()) / stock_df['ADX_pos_neg_diff'].std()\n",
    "stock_df['ADX_pos_adx_diff']=(stock_df['ADX_pos_adx_diff'] - stock_df['ADX_pos_adx_diff'].mean()) / stock_df['ADX_pos_adx_diff'].std()\n",
    "stock_df['ADX_neg_adx_diff']=(stock_df['ADX_neg_adx_diff'] - stock_df['ADX_neg_adx_diff'].mean()) / stock_df['ADX_neg_adx_diff'].std()\n",
    "stock_df['Is_prev_day_holiday']=[1 if((dates[i]-dates[i-1]).days>1) else 0 for i in range(len(dates)) ]\n",
    "stock_df['pos_directional_indicator'] = MinMaxScaler().fit_transform(np.array(stock_df['pos_directional_indicator']).reshape(-1,1))\n",
    "stock_df['neg_directional_indicator'] = MinMaxScaler().fit_transform(np.array(stock_df['neg_directional_indicator']).reshape(-1,1))\n",
    "stock_df['adx'] = MinMaxScaler().fit_transform(np.array(stock_df['adx']).reshape(-1,1))\n",
    "stock_df['6. volume']=(stock_df['6. volume'] - np.mean(stock_df['6. volume'])) / np.std(stock_df['6. volume'])"
   ]
  },
  {
   "cell_type": "code",
   "execution_count": 24,
   "metadata": {
    "id": "MH63-P_NctM_"
   },
   "outputs": [
    {
     "name": "stdout",
     "output_type": "stream",
     "text": [
      "Refreshed stock_df\n"
     ]
    }
   ],
   "source": [
    "stock_df['BBands_upper'], stock_df['BBands_mid'], stock_df['BBands_lower'] = talib.BBANDS(stock_df['4. close'], nbdevup=2, nbdevdn=2, timeperiod=20)\n",
    "stock_df['RSI'] = talib.RSI(stock_df['4. close'], timeperiod=14)\n",
    "stock_df['macd'], stock_df['macdsig_1'], stock_df['macdsig_2'] = talib.MACD(stock_df['4. close'], fastperiod=12, slowperiod=26, signalperiod=9)\n"
   ]
  },
  {
   "cell_type": "code",
   "execution_count": 10,
   "metadata": {
    "id": "2qXtkrlJjGqi"
   },
   "outputs": [
    {
     "name": "stderr",
     "output_type": "stream",
     "text": [
      "PandasGUI INFO — pandasgui.gui — Opening PandasGUI\n"
     ]
    },
    {
     "data": {
      "text/plain": [
       "<pandasgui.gui.PandasGui at 0x2cc193f31f0>"
      ]
     },
     "execution_count": 10,
     "metadata": {},
     "output_type": "execute_result"
    }
   ],
   "source": [
    "from pandasgui import show\n",
    "\n",
    "show(stock_df)"
   ]
  },
  {
   "cell_type": "code",
   "execution_count": 11,
   "metadata": {},
   "outputs": [
    {
     "data": {
      "text/html": [
       "<div>\n",
       "<style scoped>\n",
       "    .dataframe tbody tr th:only-of-type {\n",
       "        vertical-align: middle;\n",
       "    }\n",
       "\n",
       "    .dataframe tbody tr th {\n",
       "        vertical-align: top;\n",
       "    }\n",
       "\n",
       "    .dataframe thead th {\n",
       "        text-align: right;\n",
       "    }\n",
       "</style>\n",
       "<table border=\"1\" class=\"dataframe\">\n",
       "  <thead>\n",
       "    <tr style=\"text-align: right;\">\n",
       "      <th></th>\n",
       "      <th>1. open</th>\n",
       "      <th>2. high</th>\n",
       "      <th>3. low</th>\n",
       "      <th>4. close</th>\n",
       "      <th>5. adjusted close</th>\n",
       "      <th>6. volume</th>\n",
       "      <th>7. dividend amount</th>\n",
       "      <th>8. split coefficient</th>\n",
       "      <th>Is_prev_day_holiday</th>\n",
       "      <th>pos_directional_indicator</th>\n",
       "      <th>...</th>\n",
       "      <th>ADX_pos_neg_diff</th>\n",
       "      <th>ADX_pos_adx_diff</th>\n",
       "      <th>ADX_neg_adx_diff</th>\n",
       "      <th>BBands_upper</th>\n",
       "      <th>BBands_mid</th>\n",
       "      <th>BBands_lower</th>\n",
       "      <th>RSI</th>\n",
       "      <th>macd</th>\n",
       "      <th>macdsig_1</th>\n",
       "      <th>macdsig_2</th>\n",
       "    </tr>\n",
       "  </thead>\n",
       "  <tbody>\n",
       "    <tr>\n",
       "      <th>2005-01-03</th>\n",
       "      <td>388.7685</td>\n",
       "      <td>407.0464</td>\n",
       "      <td>388.7685</td>\n",
       "      <td>405.9997</td>\n",
       "      <td>87.4919</td>\n",
       "      <td>0.014684</td>\n",
       "      <td>0.0</td>\n",
       "      <td>1.0</td>\n",
       "      <td>0</td>\n",
       "      <td>0.0</td>\n",
       "      <td>...</td>\n",
       "      <td>-0.106155</td>\n",
       "      <td>0.208378</td>\n",
       "      <td>0.287197</td>\n",
       "      <td>NaN</td>\n",
       "      <td>NaN</td>\n",
       "      <td>NaN</td>\n",
       "      <td>NaN</td>\n",
       "      <td>NaN</td>\n",
       "      <td>NaN</td>\n",
       "      <td>NaN</td>\n",
       "    </tr>\n",
       "    <tr>\n",
       "      <th>2005-01-04</th>\n",
       "      <td>399.9444</td>\n",
       "      <td>407.3827</td>\n",
       "      <td>395.8329</td>\n",
       "      <td>396.8048</td>\n",
       "      <td>85.5104</td>\n",
       "      <td>0.012461</td>\n",
       "      <td>0.0</td>\n",
       "      <td>1.0</td>\n",
       "      <td>0</td>\n",
       "      <td>0.0</td>\n",
       "      <td>...</td>\n",
       "      <td>-0.106155</td>\n",
       "      <td>0.208378</td>\n",
       "      <td>0.287197</td>\n",
       "      <td>NaN</td>\n",
       "      <td>NaN</td>\n",
       "      <td>NaN</td>\n",
       "      <td>NaN</td>\n",
       "      <td>NaN</td>\n",
       "      <td>NaN</td>\n",
       "      <td>NaN</td>\n",
       "    </tr>\n",
       "    <tr>\n",
       "      <th>2005-01-05</th>\n",
       "      <td>392.8427</td>\n",
       "      <td>399.1970</td>\n",
       "      <td>385.9277</td>\n",
       "      <td>396.1319</td>\n",
       "      <td>85.3654</td>\n",
       "      <td>0.021056</td>\n",
       "      <td>0.0</td>\n",
       "      <td>1.0</td>\n",
       "      <td>0</td>\n",
       "      <td>0.0</td>\n",
       "      <td>...</td>\n",
       "      <td>-0.106155</td>\n",
       "      <td>0.208378</td>\n",
       "      <td>0.287197</td>\n",
       "      <td>NaN</td>\n",
       "      <td>NaN</td>\n",
       "      <td>NaN</td>\n",
       "      <td>NaN</td>\n",
       "      <td>NaN</td>\n",
       "      <td>NaN</td>\n",
       "      <td>NaN</td>\n",
       "    </tr>\n",
       "    <tr>\n",
       "      <th>2005-01-06</th>\n",
       "      <td>392.4690</td>\n",
       "      <td>401.0658</td>\n",
       "      <td>390.6747</td>\n",
       "      <td>393.1791</td>\n",
       "      <td>84.729</td>\n",
       "      <td>0.016683</td>\n",
       "      <td>0.0</td>\n",
       "      <td>1.0</td>\n",
       "      <td>0</td>\n",
       "      <td>0.0</td>\n",
       "      <td>...</td>\n",
       "      <td>-0.106155</td>\n",
       "      <td>0.208378</td>\n",
       "      <td>0.287197</td>\n",
       "      <td>NaN</td>\n",
       "      <td>NaN</td>\n",
       "      <td>NaN</td>\n",
       "      <td>NaN</td>\n",
       "      <td>NaN</td>\n",
       "      <td>NaN</td>\n",
       "      <td>NaN</td>\n",
       "    </tr>\n",
       "    <tr>\n",
       "      <th>2005-01-07</th>\n",
       "      <td>394.7115</td>\n",
       "      <td>409.2889</td>\n",
       "      <td>394.3751</td>\n",
       "      <td>404.3176</td>\n",
       "      <td>87.1294</td>\n",
       "      <td>0.021075</td>\n",
       "      <td>0.0</td>\n",
       "      <td>1.0</td>\n",
       "      <td>0</td>\n",
       "      <td>0.0</td>\n",
       "      <td>...</td>\n",
       "      <td>-0.106155</td>\n",
       "      <td>0.208378</td>\n",
       "      <td>0.287197</td>\n",
       "      <td>NaN</td>\n",
       "      <td>NaN</td>\n",
       "      <td>NaN</td>\n",
       "      <td>NaN</td>\n",
       "      <td>NaN</td>\n",
       "      <td>NaN</td>\n",
       "      <td>NaN</td>\n",
       "    </tr>\n",
       "  </tbody>\n",
       "</table>\n",
       "<p>5 rows × 22 columns</p>\n",
       "</div>"
      ],
      "text/plain": [
       "             1. open   2. high    3. low  4. close 5. adjusted close  \\\n",
       "2005-01-03  388.7685  407.0464  388.7685  405.9997           87.4919   \n",
       "2005-01-04  399.9444  407.3827  395.8329  396.8048           85.5104   \n",
       "2005-01-05  392.8427  399.1970  385.9277  396.1319           85.3654   \n",
       "2005-01-06  392.4690  401.0658  390.6747  393.1791            84.729   \n",
       "2005-01-07  394.7115  409.2889  394.3751  404.3176           87.1294   \n",
       "\n",
       "            6. volume  7. dividend amount  8. split coefficient  \\\n",
       "2005-01-03   0.014684                 0.0                   1.0   \n",
       "2005-01-04   0.012461                 0.0                   1.0   \n",
       "2005-01-05   0.021056                 0.0                   1.0   \n",
       "2005-01-06   0.016683                 0.0                   1.0   \n",
       "2005-01-07   0.021075                 0.0                   1.0   \n",
       "\n",
       "            Is_prev_day_holiday  pos_directional_indicator  ...  \\\n",
       "2005-01-03                    0                        0.0  ...   \n",
       "2005-01-04                    0                        0.0  ...   \n",
       "2005-01-05                    0                        0.0  ...   \n",
       "2005-01-06                    0                        0.0  ...   \n",
       "2005-01-07                    0                        0.0  ...   \n",
       "\n",
       "            ADX_pos_neg_diff  ADX_pos_adx_diff  ADX_neg_adx_diff  \\\n",
       "2005-01-03         -0.106155          0.208378          0.287197   \n",
       "2005-01-04         -0.106155          0.208378          0.287197   \n",
       "2005-01-05         -0.106155          0.208378          0.287197   \n",
       "2005-01-06         -0.106155          0.208378          0.287197   \n",
       "2005-01-07         -0.106155          0.208378          0.287197   \n",
       "\n",
       "            BBands_upper  BBands_mid  BBands_lower  RSI  macd  macdsig_1  \\\n",
       "2005-01-03           NaN         NaN           NaN  NaN   NaN        NaN   \n",
       "2005-01-04           NaN         NaN           NaN  NaN   NaN        NaN   \n",
       "2005-01-05           NaN         NaN           NaN  NaN   NaN        NaN   \n",
       "2005-01-06           NaN         NaN           NaN  NaN   NaN        NaN   \n",
       "2005-01-07           NaN         NaN           NaN  NaN   NaN        NaN   \n",
       "\n",
       "            macdsig_2  \n",
       "2005-01-03        NaN  \n",
       "2005-01-04        NaN  \n",
       "2005-01-05        NaN  \n",
       "2005-01-06        NaN  \n",
       "2005-01-07        NaN  \n",
       "\n",
       "[5 rows x 22 columns]"
      ]
     },
     "execution_count": 11,
     "metadata": {},
     "output_type": "execute_result"
    }
   ],
   "source": [
    "stock_df.head()"
   ]
  },
  {
   "cell_type": "code",
   "execution_count": 25,
   "metadata": {
    "id": "wTEl4yZXwhUS"
   },
   "outputs": [
    {
     "data": {
      "text/plain": [
       "Index(['1. open', '2. high', '3. low', '4. close', '5. adjusted close',\n",
       "       '6. volume', '7. dividend amount', '8. split coefficient',\n",
       "       'Is_prev_day_holiday', 'pos_directional_indicator',\n",
       "       'neg_directional_indicator', 'adx', 'ADX_pos_neg_diff',\n",
       "       'ADX_pos_adx_diff', 'ADX_neg_adx_diff', 'BBands_upper', 'BBands_mid',\n",
       "       'BBands_lower', 'RSI', 'macd', 'macdsig_1', 'macdsig_2',\n",
       "       'Adjusted_close_price_13', 'Adjusted_close_price_50',\n",
       "       'Adjusted_close_price_100', 'Adjusted_close_price_200'],\n",
       "      dtype='object')"
      ]
     },
     "execution_count": 25,
     "metadata": {},
     "output_type": "execute_result"
    }
   ],
   "source": [
    "Train_y=stock_df['4. close'].reset_index()[Max_moving_avg:]['4. close']\n",
    "\n",
    "stock_df['Adjusted_close_price_13']=stock_df['4. close'].rolling(window=13).mean()\n",
    "stock_df['Adjusted_close_price_50']=stock_df['4. close'].rolling(window=50).mean()\n",
    "stock_df['Adjusted_close_price_100']=stock_df['4. close'].rolling(window=100).mean()\n",
    "stock_df['Adjusted_close_price_200']=stock_df['4. close'].rolling(window=200).mean()\n",
    "stock_df.columns"
   ]
  },
  {
   "cell_type": "code",
   "execution_count": null,
   "metadata": {
    "id": "W1glYzPk3BRL"
   },
   "outputs": [],
   "source": [
    "# Train_y=stock_df['4. close'].reset_index()[Max_moving_avg:]['4. close']"
   ]
  },
  {
   "cell_type": "code",
   "execution_count": 28,
   "metadata": {
    "id": "xGqS5ENt31dh"
   },
   "outputs": [],
   "source": [
    "column_to_Normalize=['1. open', '2. high', '3. low', '4. close',\n",
    "                     'Adjusted_close_price_13', 'Adjusted_close_price_50','Adjusted_close_price_100', 'Adjusted_close_price_200',\n",
    "                     'BBands_upper','BBands_mid','BBands_lower','pos_directional_indicator', 'neg_directional_indicator',\n",
    "                     'adx', 'ADX_pos_neg_diff', 'ADX_pos_adx_diff', 'ADX_neg_adx_diff', 'RSI', 'macd', 'macdsig_1', 'macdsig_2']\n",
    "column_to_exclude=['5. adjusted close']"
   ]
  },
  {
   "cell_type": "code",
   "execution_count": null,
   "metadata": {
    "id": "yPX1J3tulaLr"
   },
   "outputs": [
    {
     "name": "stdout",
     "output_type": "stream",
     "text": [
      "['6. volume', '7. dividend amount', '8. split coefficient', 'Is_prev_day_holiday']\n"
     ]
    }
   ],
   "source": [
    "from sklearn import preprocessing\n",
    "nr_scaler = preprocessing.StandardScaler()\n",
    "X_train_normalized = nr_scaler.fit_transform(stock_df[Max_moving_avg:].reset_index()[column_to_Normalize])\n",
    "col_not_normalized=[j for j in stock_df.columns if ((j not in column_to_Normalize) and (j not in column_to_exclude))]\n",
    "print(col_not_normalized)\n",
    "final_arr=[]\n",
    "\n",
    "for i in range(len(X_train_normalized)):\n",
    "    arr=list(X_train_normalized[i])\n",
    "    arr.extend(list(stock_df.iloc[i][col_not_normalized]))\n",
    "    final_arr.append(arr)"
   ]
  },
  {
   "cell_type": "code",
   "execution_count": null,
   "metadata": {
    "id": "Clu_tYIaauDQ"
   },
   "outputs": [],
   "source": [
    "# Train_y"
   ]
  },
  {
   "cell_type": "code",
   "execution_count": null,
   "metadata": {
    "id": "E22OrtZdjUTT"
   },
   "outputs": [],
   "source": [
    "scaler_for_y=MinMaxScaler()\n",
    "Target=scaler_for_y.fit_transform(np.array(Train_y).reshape(-1,1))\n",
    "Target\n"
   ]
  },
  {
   "cell_type": "code",
   "execution_count": null,
   "metadata": {
    "id": "tNeb854F4FFW"
   },
   "outputs": [],
   "source": [
    "from sklearn.model_selection import train_test_split"
   ]
  },
  {
   "cell_type": "code",
   "execution_count": null,
   "metadata": {
    "id": "sgxusvur3olm"
   },
   "outputs": [],
   "source": [
    "\n",
    "\n",
    "train_X,Test_X,Train_y,Test_y=train_test_split(np.array(final_arr),Target,test_size=0.2,random_state=123,shuffle=False)"
   ]
  },
  {
   "cell_type": "code",
   "execution_count": null,
   "metadata": {
    "id": "sMeKj_AZ7OM0"
   },
   "outputs": [],
   "source": []
  },
  {
   "cell_type": "code",
   "execution_count": null,
   "metadata": {
    "id": "KYMdzKQQt3aX"
   },
   "outputs": [],
   "source": [
    "from tensorflow.keras.preprocessing.sequence import TimeseriesGenerator\n",
    "n_features=len(final_arr[0])\n",
    "Train_generator=TimeseriesGenerator(train_X,Train_y,length=past_n_days,batch_size=1,sampling_rate=1)\n",
    "Test_generator=TimeseriesGenerator(Test_X,Test_y,length=past_n_days,batch_size=1)"
   ]
  },
  {
   "cell_type": "code",
   "execution_count": null,
   "metadata": {
    "id": "TwebOcLvuasz"
   },
   "outputs": [],
   "source": [
    "# X,y=Train_generator[0]\n",
    "# print(X.flatten())\n",
    "# print(y)"
   ]
  },
  {
   "cell_type": "code",
   "execution_count": null,
   "metadata": {
    "id": "A6eockmcsLCC"
   },
   "outputs": [],
   "source": [
    "model = Sequential()\n",
    "model.add(LSTM(50, return_sequences=True, input_shape=(past_n_days, n_features)))\n",
    "# model.add(LSTM(150, return_sequences=True, input_shape=(Train_X.shape[1], 150)))\n",
    "# model.add(LSTM(75, return_sequences=True, input_shape=(Train_X.shape[1], 150)))\n",
    "model.add(LSTM(50, return_sequences=False, input_shape=(past_n_days, 75)))\n",
    "model.add(Dense(1))\n",
    "model.compile(loss='mse', optimizer='adam')\n",
    "model.summary()"
   ]
  },
  {
   "cell_type": "code",
   "execution_count": null,
   "metadata": {
    "id": "6Q1bP8Q8GQeP"
   },
   "outputs": [],
   "source": [
    "import tensorflow as tf\n",
    "callback = tf.keras.callbacks.EarlyStopping(monitor='loss', patience=2)\n",
    "history = model.fit(Train_generator, epochs=55, callbacks=[callback])"
   ]
  },
  {
   "cell_type": "code",
   "execution_count": null,
   "metadata": {
    "id": "V8Jfc0f69Wvo"
   },
   "outputs": [],
   "source": [
    "model.evaluate(Test_generator)"
   ]
  },
  {
   "cell_type": "code",
   "execution_count": null,
   "metadata": {
    "id": "SeZA_4-tCkZ0"
   },
   "outputs": [],
   "source": [
    "Prediction=model.predict(Test_generator)"
   ]
  },
  {
   "cell_type": "code",
   "execution_count": null,
   "metadata": {
    "id": "_lgjKwILC6mx"
   },
   "outputs": [],
   "source": [
    "from matplotlib import pyplot\n",
    "# plot history\n",
    "pyplot.plot(history.history['loss'], label='train')\n",
    "# pyplot.plot(history.history['val_loss'], label='test')\n",
    "pyplot.legend()\n",
    "pyplot.show()"
   ]
  },
  {
   "cell_type": "code",
   "execution_count": null,
   "metadata": {
    "id": "HE_zAXzVbFBO"
   },
   "outputs": [],
   "source": [
    "len(Test_y[:,0][past_n_days:])\n",
    "len(Prediction[:,0])"
   ]
  },
  {
   "cell_type": "code",
   "execution_count": null,
   "metadata": {
    "id": "U6T55t_rfOlK"
   },
   "outputs": [],
   "source": [
    "Result_df=pd.DataFrame({'Actual':Test_y[:,0][past_n_days:],'predicted':Prediction[:,0] })"
   ]
  },
  {
   "cell_type": "code",
   "execution_count": null,
   "metadata": {
    "id": "oI0X-pCybQ63"
   },
   "outputs": [],
   "source": [
    "Result_df['Actual']=scaler_for_y.inverse_transform(Test_y[:][past_n_days:])\n",
    "Result_df['predicted']=scaler_for_y.inverse_transform(Prediction)"
   ]
  },
  {
   "cell_type": "code",
   "execution_count": null,
   "metadata": {
    "id": "JgD6kk7-bnaF"
   },
   "outputs": [],
   "source": [
    "from matplotlib import pyplot\n",
    "# plot history\n",
    "pyplot.plot(Result_df['Actual'], label='Actual')\n",
    "pyplot.plot(Result_df['predicted'], label='predicted')\n",
    "pyplot.legend()\n",
    "pyplot.show()"
   ]
  },
  {
   "cell_type": "code",
   "execution_count": null,
   "metadata": {
    "id": "NLH8yLV-drh4"
   },
   "outputs": [],
   "source": [
    "from datetime import datetime\n",
    "now = datetime.now()\n",
    "str(now)\n",
    "model.save('saved_model/my_model'+str(now)) "
   ]
  },
  {
   "cell_type": "code",
   "execution_count": null,
   "metadata": {
    "id": "hCNvTkrAD230"
   },
   "outputs": [],
   "source": [
    "# # Save the entire model as a SavedModel.\n",
    "# !mkdir -p saved_model\n",
    "# model.save('saved_model/my_model'+str(now)) "
   ]
  }
 ],
 "metadata": {
  "colab": {
   "collapsed_sections": [],
   "name": "LSTM for Stocks - V2.ipynb",
   "private_outputs": true,
   "provenance": []
  },
  "kernelspec": {
   "display_name": "Python 3",
   "language": "python",
   "name": "python3"
  },
  "language_info": {
   "codemirror_mode": {
    "name": "ipython",
    "version": 3
   },
   "file_extension": ".py",
   "mimetype": "text/x-python",
   "name": "python",
   "nbconvert_exporter": "python",
   "pygments_lexer": "ipython3",
   "version": "3.8.3"
  }
 },
 "nbformat": 4,
 "nbformat_minor": 1
}
